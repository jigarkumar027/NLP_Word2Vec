{
 "cells": [
  {
   "cell_type": "code",
   "execution_count": 1,
   "metadata": {},
   "outputs": [],
   "source": [
    "import nltk"
   ]
  },
  {
   "cell_type": "code",
   "execution_count": 3,
   "metadata": {},
   "outputs": [
    {
     "name": "stdout",
     "output_type": "stream",
     "text": [
      "Collecting gensim\n",
      "  Downloading gensim-4.0.1-cp38-cp38-win_amd64.whl (23.9 MB)\n",
      "Requirement already satisfied: Cython==0.29.21 in c:\\users\\tops\\anaconda3\\lib\\site-packages (from gensim) (0.29.21)\n",
      "Requirement already satisfied: numpy>=1.11.3 in c:\\users\\tops\\anaconda3\\lib\\site-packages (from gensim) (1.19.3)\n",
      "Requirement already satisfied: scipy>=0.18.1 in c:\\users\\tops\\appdata\\roaming\\python\\python38\\site-packages (from gensim) (1.4.1)\n",
      "Collecting smart-open>=1.8.1\n",
      "  Downloading smart_open-5.0.0-py3-none-any.whl (56 kB)\n",
      "Installing collected packages: smart-open, gensim\n",
      "Successfully installed gensim-4.0.1 smart-open-5.0.0\n"
     ]
    }
   ],
   "source": [
    "!pip install gensim"
   ]
  },
  {
   "cell_type": "code",
   "execution_count": 2,
   "metadata": {},
   "outputs": [
    {
     "name": "stderr",
     "output_type": "stream",
     "text": [
      "C:\\Users\\TOPS\\anaconda3\\lib\\site-packages\\gensim\\similarities\\__init__.py:15: UserWarning: The gensim.similarities.levenshtein submodule is disabled, because the optional Levenshtein package <https://pypi.org/project/python-Levenshtein/> is unavailable. Install Levenhstein (e.g. `pip install python-Levenshtein`) to suppress this warning.\n",
      "  warnings.warn(msg)\n"
     ]
    }
   ],
   "source": [
    "from gensim.models import Word2Vec\n",
    "from nltk.corpus import stopwords"
   ]
  },
  {
   "cell_type": "code",
   "execution_count": 3,
   "metadata": {},
   "outputs": [],
   "source": [
    "import re"
   ]
  },
  {
   "cell_type": "code",
   "execution_count": 4,
   "metadata": {},
   "outputs": [],
   "source": [
    "paragraph = \"\"\"I have a dream that one day down in Alabama, with its vicious racists, \n",
    "with its governor having his lips dripping with the words of interposition and nullification – \n",
    "one day right there in Alabama little black boys and black girls will be able to join hands\n",
    "with little white boys and white girls as sisters and brothers.I have a dream today.\n",
    "I have a dream that one day every valley shall be exalted and every hill and mountain \n",
    "shall be made low, the rough places will be made plain, and the crooked places will \n",
    "be made straight, and the glory of the Lord shall be revealed and all flesh shall see it together.\"\"\""
   ]
  },
  {
   "cell_type": "code",
   "execution_count": 5,
   "metadata": {},
   "outputs": [],
   "source": [
    "\n",
    "# Preprocessing the data\n",
    "text = re.sub(r'\\[[0-9]*\\]',' ',paragraph)\n",
    "text = re.sub(r'\\s+',' ',text)\n",
    "text = text.lower()\n",
    "text = re.sub(r'\\d',' ',text)\n",
    "text = re.sub(r'\\s+',' ',text)"
   ]
  },
  {
   "cell_type": "code",
   "execution_count": 6,
   "metadata": {},
   "outputs": [
    {
     "data": {
      "text/plain": [
       "'i have a dream that one day down in alabama, with its vicious racists, with its governor having his lips dripping with the words of interposition and nullification – one day right there in alabama little black boys and black girls will be able to join hands with little white boys and white girls as sisters and brothers.i have a dream today. i have a dream that one day every valley shall be exalted and every hill and mountain shall be made low, the rough places will be made plain, and the crooked places will be made straight, and the glory of the lord shall be revealed and all flesh shall see it together.'"
      ]
     },
     "execution_count": 6,
     "metadata": {},
     "output_type": "execute_result"
    }
   ],
   "source": [
    "text"
   ]
  },
  {
   "cell_type": "code",
   "execution_count": 7,
   "metadata": {},
   "outputs": [],
   "source": [
    "# Preparing the dataset\n",
    "sentences = nltk.sent_tokenize(text)\n",
    "\n",
    "sentences = [nltk.word_tokenize(sentence) for sentence in sentences]\n",
    "\n",
    "for i in range(len(sentences)):\n",
    "    sentences[i] = [word for word in sentences[i] if word not in stopwords.words('english')]\n",
    "    "
   ]
  },
  {
   "cell_type": "code",
   "execution_count": 8,
   "metadata": {
    "collapsed": true
   },
   "outputs": [
    {
     "data": {
      "text/plain": [
       "[['dream',\n",
       "  'one',\n",
       "  'day',\n",
       "  'alabama',\n",
       "  ',',\n",
       "  'vicious',\n",
       "  'racists',\n",
       "  ',',\n",
       "  'governor',\n",
       "  'lips',\n",
       "  'dripping',\n",
       "  'words',\n",
       "  'interposition',\n",
       "  'nullification',\n",
       "  '–',\n",
       "  'one',\n",
       "  'day',\n",
       "  'right',\n",
       "  'alabama',\n",
       "  'little',\n",
       "  'black',\n",
       "  'boys',\n",
       "  'black',\n",
       "  'girls',\n",
       "  'able',\n",
       "  'join',\n",
       "  'hands',\n",
       "  'little',\n",
       "  'white',\n",
       "  'boys',\n",
       "  'white',\n",
       "  'girls',\n",
       "  'sisters',\n",
       "  'brothers.i',\n",
       "  'dream',\n",
       "  'today',\n",
       "  '.'],\n",
       " ['dream',\n",
       "  'one',\n",
       "  'day',\n",
       "  'every',\n",
       "  'valley',\n",
       "  'shall',\n",
       "  'exalted',\n",
       "  'every',\n",
       "  'hill',\n",
       "  'mountain',\n",
       "  'shall',\n",
       "  'made',\n",
       "  'low',\n",
       "  ',',\n",
       "  'rough',\n",
       "  'places',\n",
       "  'made',\n",
       "  'plain',\n",
       "  ',',\n",
       "  'crooked',\n",
       "  'places',\n",
       "  'made',\n",
       "  'straight',\n",
       "  ',',\n",
       "  'glory',\n",
       "  'lord',\n",
       "  'shall',\n",
       "  'revealed',\n",
       "  'flesh',\n",
       "  'shall',\n",
       "  'see',\n",
       "  'together',\n",
       "  '.']]"
      ]
     },
     "execution_count": 8,
     "metadata": {},
     "output_type": "execute_result"
    }
   ],
   "source": [
    "sentences"
   ]
  },
  {
   "cell_type": "code",
   "execution_count": 10,
   "metadata": {},
   "outputs": [],
   "source": [
    "# Training the Word2Vec model\n",
    "model = Word2Vec(sentences, min_count=1)   "
   ]
  },
  {
   "cell_type": "code",
   "execution_count": 11,
   "metadata": {},
   "outputs": [
    {
     "data": {
      "text/plain": [
       "<gensim.models.word2vec.Word2Vec at 0x21fffa1b1f0>"
      ]
     },
     "execution_count": 11,
     "metadata": {},
     "output_type": "execute_result"
    }
   ],
   "source": [
    "model"
   ]
  },
  {
   "cell_type": "code",
   "execution_count": null,
   "metadata": {},
   "outputs": [],
   "source": []
  },
  {
   "cell_type": "code",
   "execution_count": 12,
   "metadata": {},
   "outputs": [],
   "source": [
    "vector = model.wv['dream'] "
   ]
  },
  {
   "cell_type": "code",
   "execution_count": 13,
   "metadata": {},
   "outputs": [],
   "source": [
    "similar = model.wv.most_similar('dream')"
   ]
  },
  {
   "cell_type": "code",
   "execution_count": 14,
   "metadata": {},
   "outputs": [
    {
     "data": {
      "text/plain": [
       "[('rough', 0.21259267628192902),\n",
       " ('black', 0.1997682899236679),\n",
       " ('.', 0.1729479283094406),\n",
       " ('–', 0.1711060255765915),\n",
       " ('day', 0.17101681232452393),\n",
       " ('revealed', 0.15338614583015442),\n",
       " ('glory', 0.14929158985614777),\n",
       " ('alabama', 0.14702849090099335),\n",
       " ('together', 0.1345093548297882),\n",
       " ('see', 0.12171611189842224)]"
      ]
     },
     "execution_count": 14,
     "metadata": {},
     "output_type": "execute_result"
    }
   ],
   "source": [
    "similar"
   ]
  }
 ],
 "metadata": {
  "kernelspec": {
   "display_name": "Python 3",
   "language": "python",
   "name": "python3"
  },
  "language_info": {
   "codemirror_mode": {
    "name": "ipython",
    "version": 3
   },
   "file_extension": ".py",
   "mimetype": "text/x-python",
   "name": "python",
   "nbconvert_exporter": "python",
   "pygments_lexer": "ipython3",
   "version": "3.8.5"
  }
 },
 "nbformat": 4,
 "nbformat_minor": 4
}
